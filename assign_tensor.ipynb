{
 "cells": [
  {
   "cell_type": "markdown",
   "id": "319a2fe9",
   "metadata": {},
   "source": [
    "# Recommendation system using TensorFlow"
   ]
  },
  {
   "cell_type": "code",
   "execution_count": 1,
   "id": "2c3d96cf",
   "metadata": {},
   "outputs": [
    {
     "name": "stderr",
     "output_type": "stream",
     "text": [
      "C:\\Users\\EEE\\anaconda3\\envs\\pytorchenv\\lib\\site-packages\\sklearn\\utils\\validation.py:37: DeprecationWarning: distutils Version classes are deprecated. Use packaging.version instead.\n",
      "  LARGE_SPARSE_SUPPORTED = LooseVersion(scipy_version) >= '0.14.0'\n"
     ]
    }
   ],
   "source": [
    "import pandas as pd\n",
    "import numpy as np\n",
    "from sklearn.model_selection import train_test_split\n",
    "\n",
    "# Load the data\n",
    "df = pd.read_csv('kurtiData.csv')"
   ]
  },
  {
   "cell_type": "code",
   "execution_count": 2,
   "id": "99c4dd34",
   "metadata": {},
   "outputs": [
    {
     "name": "stdout",
     "output_type": "stream",
     "text": [
      "                            user_id product_id  \\\n",
      "0  0b32cb93b4d1467a895fdd0c0fdcac7d     1xiamj   \n",
      "1  a546c81dcb9346619c00f3632bb39318     1xiamj   \n",
      "2  6f7480ff712d42eb9be53f37641a3bf9     1xiamj   \n",
      "3  cf05abc75bd74b159bc91a76ad4bfbb5     1xiamj   \n",
      "4  893a87b0ef41435cbd40f5065bdff448     1xiamj   \n",
      "\n",
      "                                         product_url  \\\n",
      "0  https://www.meesho.com/alisha-refined-kurtis/p...   \n",
      "1  https://www.meesho.com/alisha-refined-kurtis/p...   \n",
      "2  https://www.meesho.com/alisha-refined-kurtis/p...   \n",
      "3  https://www.meesho.com/alisha-refined-kurtis/p...   \n",
      "4  https://www.meesho.com/alisha-refined-kurtis/p...   \n",
      "\n",
      "                                           image_url price  rating   timestamp  \n",
      "0  https://images.meesho.com/images/products/1167...  ₹293       5  1816526580  \n",
      "1  https://images.meesho.com/images/products/1167...  ₹293       5  1431790209  \n",
      "2  https://images.meesho.com/images/products/1167...  ₹293       5  1455698017  \n",
      "3  https://images.meesho.com/images/products/1167...  ₹293       5  1419335880  \n",
      "4  https://images.meesho.com/images/products/1167...  ₹293       5  1195975318  \n"
     ]
    }
   ],
   "source": [
    "print(df.head())"
   ]
  },
  {
   "cell_type": "code",
   "execution_count": 4,
   "id": "c9268256",
   "metadata": {},
   "outputs": [],
   "source": [
    "# Select relevant columns for the recommendation system\n",
    "df = df[['user_id', 'product_id', 'rating']]"
   ]
  },
  {
   "cell_type": "code",
   "execution_count": 5,
   "id": "6b40c7ee",
   "metadata": {},
   "outputs": [],
   "source": [
    "# Encode user_id and product_id as categorical data\n",
    "df['user_id'] = df['user_id'].astype('category').cat.codes\n",
    "df['product_id'] = df['product_id'].astype('category').cat.codes"
   ]
  },
  {
   "cell_type": "code",
   "execution_count": 6,
   "id": "25b48a11",
   "metadata": {},
   "outputs": [],
   "source": [
    "# Split the data into training and testing sets\n",
    "train_data, test_data = train_test_split(df, test_size=0.2, random_state=42)"
   ]
  },
  {
   "cell_type": "markdown",
   "id": "927aefb1",
   "metadata": {},
   "source": [
    "## Build the Model"
   ]
  },
  {
   "cell_type": "code",
   "execution_count": 7,
   "id": "cc536473",
   "metadata": {
    "scrolled": true
   },
   "outputs": [
    {
     "name": "stdout",
     "output_type": "stream",
     "text": [
      "Epoch 1/5\n",
      "5325/5325 [==============================] - 138s 26ms/step - loss: 7.9666\n",
      "Epoch 2/5\n",
      "5325/5325 [==============================] - 131s 25ms/step - loss: 2.6386\n",
      "Epoch 3/5\n",
      "5325/5325 [==============================] - 136s 25ms/step - loss: 2.4224\n",
      "Epoch 4/5\n",
      "5325/5325 [==============================] - 133s 25ms/step - loss: 2.2498\n",
      "Epoch 5/5\n",
      "5325/5325 [==============================] - 131s 25ms/step - loss: 1.9740\n"
     ]
    },
    {
     "data": {
      "text/plain": [
       "<keras.callbacks.History at 0x23964ed7ac8>"
      ]
     },
     "execution_count": 7,
     "metadata": {},
     "output_type": "execute_result"
    }
   ],
   "source": [
    "import tensorflow as tf\n",
    "from tensorflow.keras.models import Model\n",
    "from tensorflow.keras.layers import Input, Embedding, Flatten, Dot, Dense\n",
    "\n",
    "# Define the number of unique users and products\n",
    "num_users = df['user_id'].nunique()\n",
    "num_products = df['product_id'].nunique()\n",
    "\n",
    "# Define the embedding dimension\n",
    "embedding_dim = 50\n",
    "\n",
    "# Define the model\n",
    "class RecommenderModel(Model):\n",
    "    def __init__(self, num_users, num_products, embedding_dim):\n",
    "        super(RecommenderModel, self).__init__()\n",
    "        self.user_embedding = Embedding(num_users, embedding_dim, embeddings_initializer='he_normal', embeddings_regularizer=tf.keras.regularizers.l2(1e-6))\n",
    "        self.product_embedding = Embedding(num_products, embedding_dim, embeddings_initializer='he_normal', embeddings_regularizer=tf.keras.regularizers.l2(1e-6))\n",
    "        self.dot = Dot(axes=1)\n",
    "    \n",
    "    def call(self, inputs):\n",
    "        user_vector = self.user_embedding(inputs[:, 0])\n",
    "        product_vector = self.product_embedding(inputs[:, 1])\n",
    "        dot_product = self.dot([user_vector, product_vector])\n",
    "        return dot_product\n",
    "\n",
    "# Instantiate the model\n",
    "model = RecommenderModel(num_users, num_products, embedding_dim)\n",
    "\n",
    "# Compile the model\n",
    "model.compile(optimizer=tf.keras.optimizers.Adam(learning_rate=0.001), loss='mse')\n",
    "\n",
    "# Prepare the training data\n",
    "train_inputs = train_data[['user_id', 'product_id']].values\n",
    "train_targets = train_data['rating'].values\n",
    "\n",
    "# Train the model\n",
    "model.fit(train_inputs, train_targets, epochs=5, batch_size=64, verbose=1)\n"
   ]
  },
  {
   "cell_type": "markdown",
   "id": "feefbc75",
   "metadata": {},
   "source": [
    "## A/B testing framework"
   ]
  },
  {
   "cell_type": "code",
   "execution_count": 12,
   "id": "91dadc71",
   "metadata": {},
   "outputs": [
    {
     "name": "stdout",
     "output_type": "stream",
     "text": [
      "30/30 [==============================] - 0s 560us/step\n",
      "Group: A, Recommended products: [619 508 899 205 676]\n",
      "Average interaction for Group A: 0.0\n",
      "Average interaction for Group B: nan\n"
     ]
    }
   ],
   "source": [
    "# Define the A/B testing framework\n",
    "import random\n",
    "class ABTest:\n",
    "    def __init__(self, model_a, model_b):\n",
    "        self.model_a = model_a\n",
    "        self.model_b = model_b\n",
    "        self.results = {'A': [], 'B': []}\n",
    "\n",
    "    def assign_group(self, user_id):\n",
    "        return 'A' if random.random() < 0.5 else 'B'\n",
    "\n",
    "    def recommend_products(self, user_id, group, num_recommendations=5):\n",
    "        user_vector = np.array([user_id] * num_products)\n",
    "        product_vector = np.array(range(num_products))\n",
    "        inputs = np.column_stack((user_vector, product_vector))\n",
    "        \n",
    "        if group == 'A':\n",
    "            predictions = self.model_a.predict(inputs)\n",
    "        else:\n",
    "            predictions = self.model_b.predict(inputs)\n",
    "        \n",
    "        top_product_ids = np.argsort(predictions.flatten())[-num_recommendations:]\n",
    "        return top_product_ids\n",
    "\n",
    "    def track_interaction(self, group, interaction):\n",
    "        self.results[group].append(interaction)\n",
    "\n",
    "    def analyze_results(self):\n",
    "        avg_interaction_a = np.mean(self.results['A'])\n",
    "        avg_interaction_b = np.mean(self.results['B'])\n",
    "        print(f\"Average interaction for Group A: {avg_interaction_a}\")\n",
    "        print(f\"Average interaction for Group B: {avg_interaction_b}\")\n",
    "\n",
    "# Instantiate the A/B testing framework\n",
    "ab_test_framework = ABTest(model, model)\n",
    "\n",
    "# Example usage\n",
    "user_id = 0  # Example user_id\n",
    "group = ab_test_framework.assign_group(user_id)\n",
    "recommended_products = ab_test_framework.recommend_products(user_id, group)\n",
    "print(f\"Group: {group}, Recommended products: {recommended_products}\")\n",
    "\n",
    "# Simulate tracking user interaction\n",
    "interaction = random.choice([0, 1])  # Example interaction: 0 for no interaction, 1 for interaction\n",
    "ab_test_framework.track_interaction(group, interaction)\n",
    "\n",
    "# Analyze results\n",
    "ab_test_framework.analyze_results()"
   ]
  },
  {
   "cell_type": "markdown",
   "id": "28df7088",
   "metadata": {},
   "source": []
  },
  {
   "cell_type": "code",
   "execution_count": null,
   "id": "e4074b2b",
   "metadata": {},
   "outputs": [],
   "source": []
  },
  {
   "cell_type": "code",
   "execution_count": null,
   "id": "ba3a4be6",
   "metadata": {},
   "outputs": [],
   "source": []
  },
  {
   "cell_type": "code",
   "execution_count": null,
   "id": "6ad8b6b2",
   "metadata": {},
   "outputs": [],
   "source": []
  }
 ],
 "metadata": {
  "kernelspec": {
   "display_name": "Python 3 (ipykernel)",
   "language": "python",
   "name": "python3"
  },
  "language_info": {
   "codemirror_mode": {
    "name": "ipython",
    "version": 3
   },
   "file_extension": ".py",
   "mimetype": "text/x-python",
   "name": "python",
   "nbconvert_exporter": "python",
   "pygments_lexer": "ipython3",
   "version": "3.7.3"
  }
 },
 "nbformat": 4,
 "nbformat_minor": 5
}
